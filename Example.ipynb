{
 "cells": [
  {
   "cell_type": "code",
   "execution_count": 1,
   "metadata": {},
   "outputs": [],
   "source": [
    "import numpy as np\n",
    "from matplotlib import pyplot as plt\n",
    "import matplotlib.animation as animation\n",
    "\n",
    "data = np.array(   [[[0, 0, 0, 0, 0, 0, 0, 0, 0 ,0],\n",
    "                    [0, 0, 0, 0, 0, 0, 0, 0, 0 ,0],\n",
    "                    [0, 0, 0, 0, 0, 0, 0, 0, 0 ,0],\n",
    "                    [0, 0, 0, 0, 0, 0, 0, 0, 0 ,0],\n",
    "                    [0, 0, 0, 0, 0, 1, 0, 0, 0 ,0],\n",
    "                    [0, 0, 0, 0, 0, 1, 1, 0, 0 ,0],\n",
    "                    [0, 0, 0, 0, 0, 1, 0, 0, 0 ,0],\n",
    "                    [0, 0, 0, 0, 0, 0, 0, 0, 0 ,0],\n",
    "                    [0, 0, 0, 0, 0, 0, 0, 0, 0 ,0],\n",
    "                    [0, 0, 0, 0, 0, 0, 0, 0, 0 ,0],\n",
    "                    [0, 0, 0, 0, 0, 0, 0, 0, 0 ,0]],\n",
    "                \n",
    "                   [[0, 0, 0, 0, 0, 0, 0, 0, 0 ,0],\n",
    "                    [0, 0, 0, 0, 0, 0, 0, 0, 0 ,0],\n",
    "                    [0, 0, 0, 0, 0, 0, 0, 0, 0 ,0],\n",
    "                    [0, 0, 0, 0, 0, 0, 0, 0, 0 ,0],\n",
    "                    [0, 0, 0, 0, 1, 1, 0, 0, 0 ,0],\n",
    "                    [0, 0, 0, 1, 1, 1, 1, 0, 0 ,0],\n",
    "                    [0, 0, 0, 0, 1, 1, 0, 0, 0 ,0],\n",
    "                    [0, 0, 0, 0, 0, 0, 0, 0, 0 ,0],\n",
    "                    [0, 0, 0, 0, 0, 0, 0, 0, 0 ,0],\n",
    "                    [0, 0, 0, 0, 0, 0, 0, 0, 0 ,0],\n",
    "                    [0, 0, 0, 0, 0, 0, 0, 0, 0 ,0]],    \n",
    "                  \n",
    "                  [[0, 0, 0, 0, 0, 0, 0, 0, 0 ,0],\n",
    "                    [0, 0, 0, 0, 0, 0, 0, 0, 0 ,0],\n",
    "                    [0, 0, 0, 0, 0, 0, 0, 0, 0 ,0],\n",
    "                    [0, 0, 1, 1, 1, 1, 0, 0, 0 ,0],\n",
    "                    [0, 0, 1, 1, 1, 1, 1, 0, 0 ,0],\n",
    "                    [0, 0, 1, 1, 1, 1, 1, 1, 0 ,0],\n",
    "                    [0, 0, 1, 1, 1, 1, 1, 0, 0 ,0],\n",
    "                    [0, 0, 0, 1, 1, 1, 0, 0, 0 ,0],\n",
    "                    [0, 0, 0, 0, 1, 1, 0, 0, 0 ,0],\n",
    "                    [0, 0, 0, 0, 0, 0, 0, 0, 0 ,0],\n",
    "                    [0, 0, 0, 0, 0, 0, 0, 0, 0 ,0]],\n",
    "    \n",
    "                   [[0, 0, 0, 0, 0, 0, 0, 0, 0 ,0],\n",
    "                    [0, 0, 0, 0, 0, 0, 0, 0, 0 ,0],\n",
    "                    [0, 0, 1, 0, 0, 0, 0, 0, 0 ,0],\n",
    "                    [0, 0, 1, 1, 1, 1, 0, 0, 0 ,0],\n",
    "                    [0, 1, 1, 1, 1, 1, 1, 0, 0 ,0],\n",
    "                    [0, 1, 1, 1, 1, 1, 1, 1, 0 ,0],\n",
    "                    [0, 0, 1, 1, 1, 1, 1, 0, 0 ,0],\n",
    "                    [0, 0, 0, 1, 1, 1, 1, 0, 0 ,0],\n",
    "                    [0, 0, 0, 0, 1, 1, 0, 0, 0 ,0],\n",
    "                    [0, 0, 0, 0, 0, 0, 0, 0, 0 ,0],\n",
    "                    [0, 0, 0, 0, 0, 0, 0, 0, 0 ,0]],\n",
    "                    \n",
    "                   [[0, 0, 0, 0, 0, 0, 0, 0, 0 ,0],\n",
    "                    [0, 0, 0, 0, 0, 0, 0, 0, 0 ,0],\n",
    "                    [0, 0, 0, 0, 0, 0, 0, 0, 0 ,0],\n",
    "                    [0, 0, 1, 1, 1, 1, 0, 0, 0 ,0],\n",
    "                    [0, 0, 1, 1, 1, 1, 1, 0, 0 ,0],\n",
    "                    [0, 0, 1, 1, 1, 1, 1, 1, 0 ,0],\n",
    "                    [0, 0, 1, 1, 1, 1, 1, 0, 0 ,0],\n",
    "                    [0, 0, 0, 1, 1, 1, 0, 0, 0 ,0],\n",
    "                    [0, 0, 0, 0, 1, 1, 0, 0, 0 ,0],\n",
    "                    [0, 0, 0, 0, 0, 0, 0, 0, 0 ,0],\n",
    "                    [0, 0, 0, 0, 0, 0, 0, 0, 0 ,0]], \n",
    "                  \n",
    "                  [[0, 0, 0, 0, 0, 0, 0, 0, 0 ,0],\n",
    "                    [0, 0, 0, 0, 0, 0, 0, 0, 0 ,0],\n",
    "                    [0, 0, 0, 0, 0, 0, 0, 0, 0 ,0],\n",
    "                    [0, 0, 0, 0, 0, 0, 0, 0, 0 ,0],\n",
    "                    [0, 0, 0, 0, 1, 1, 0, 0, 0 ,0],\n",
    "                    [0, 0, 0, 1, 1, 1, 1, 0, 0 ,0],\n",
    "                    [0, 0, 0, 0, 1, 1, 0, 0, 0 ,0],\n",
    "                    [0, 0, 0, 0, 0, 0, 0, 0, 0 ,0],\n",
    "                    [0, 0, 0, 0, 0, 0, 0, 0, 0 ,0],\n",
    "                    [0, 0, 0, 0, 0, 0, 0, 0, 0 ,0],\n",
    "                    [0, 0, 0, 0, 0, 0, 0, 0, 0 ,0]],\n",
    "                   \n",
    "                   \n",
    "                  [[0, 0, 0, 0, 0, 0, 0, 0, 0 ,0],\n",
    "                    [0, 0, 0, 0, 0, 0, 0, 0, 0 ,0],\n",
    "                    [0, 0, 0, 0, 0, 0, 0, 0, 0 ,0],\n",
    "                    [0, 0, 0, 0, 0, 0, 0, 0, 0 ,0],\n",
    "                    [0, 0, 0, 0, 0, 0, 0, 0, 0 ,0],\n",
    "                    [0, 0, 0, 0, 1, 0, 0, 0, 0 ,0],\n",
    "                    [0, 0, 0, 0, 1, 1, 0, 0, 0 ,0],\n",
    "                    [0, 0, 0, 0, 0, 0, 0, 0, 0 ,0],\n",
    "                    [0, 0, 0, 0, 0, 0, 0, 0, 0 ,0],\n",
    "                    [0, 0, 0, 0, 0, 0, 0, 0, 0 ,0],\n",
    "                    [0, 0, 0, 0, 0, 0, 0, 0, 0 ,0]]]\n",
    "                )\n"
   ]
  },
  {
   "cell_type": "code",
   "execution_count": 2,
   "metadata": {
    "scrolled": false
   },
   "outputs": [
    {
     "data": {
      "image/png": "[encoded data removed]",
      "text/plain": [
       "<matplotlib.figure.Figure at 0x7fd865345950>"
      ]
     },
     "metadata": {},
     "output_type": "display_data"
    },
    {
     "data": {
      "image/png": "[encoded data removed]",
      "text/plain": [
       "<matplotlib.figure.Figure at 0x7fd865089ed0>"
      ]
     },
     "metadata": {},
     "output_type": "display_data"
    },
    {
     "data": {
      "image/png": "[encoded data removed]",
      "text/plain": [
       "<matplotlib.figure.Figure at 0x7fd89081cfd0>"
      ]
     },
     "metadata": {},
     "output_type": "display_data"
    },
    {
     "data": {
      "image/png": "[encoded data removed]",
      "text/plain": [
       "<matplotlib.figure.Figure at 0x7fd890799d50>"
      ]
     },
     "metadata": {},
     "output_type": "display_data"
    },
    {
     "data": {
      "image/png": "[encoded data removed]",
      "text/plain": [
       "<matplotlib.figure.Figure at 0x7fd8907e18d0>"
      ]
     },
     "metadata": {},
     "output_type": "display_data"
    },
    {
     "data": {
      "image/png": "[encoded data removed]",
      "text/plain": [
       "<matplotlib.figure.Figure at 0x7fd8907bd5d0>"
      ]
     },
     "metadata": {},
     "output_type": "display_data"
    },
    {
     "data": {
      "image/png": "[encoded data removed]",
      "text/plain": [
       "<matplotlib.figure.Figure at 0x7fd890714550>"
      ]
     },
     "metadata": {},
     "output_type": "display_data"
    }
   ],
   "source": [
    "fig = plt.figure()\n",
    "\n",
    "ims = []\n",
    "x,y,z = data.shape\n",
    "for i in range(x):\n",
    "    plt.imshow(data[i], interpolation='nearest', animated=True)\n",
    "    plt.show()"
   ]
  },
  {
   "cell_type": "code",
   "execution_count": null,
   "metadata": {},
   "outputs": [],
   "source": []
  },
  {
   "cell_type": "code",
   "execution_count": null,
   "metadata": {},
   "outputs": [],
   "source": []
  }
 ],
 "metadata": {
  "kernelspec": {
   "display_name": "Python 2",
   "language": "python",
   "name": "python2"
  },
  "language_info": {
   "codemirror_mode": {
    "name": "ipython",
    "version": 2
   },
   "file_extension": ".py",
   "mimetype": "text/x-python",
   "name": "python",
   "nbconvert_exporter": "python",
   "pygments_lexer": "ipython2",
   "version": "2.7.12"
  }
 },
 "nbformat": 4,
 "nbformat_minor": 2
}
